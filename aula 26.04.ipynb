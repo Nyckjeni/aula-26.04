{
 "cells": [
  {
   "cell_type": "code",
   "execution_count": 1,
   "metadata": {},
   "outputs": [
    {
     "name": "stdout",
     "output_type": "stream",
     "text": [
      "[76, 92.3, 'oi', 'true', 4, 76, 'pitomba', 76]\n",
      "[76, 92.3, 'oi', 'cibele', 'true', 4, 76]\n",
      "[99, 76, 92.3, 'oi', 'true', 4, 76]\n",
      "['oi']\n",
      "[76, 92.3, 'oi', 4, 76]\n",
      "Você acertou, 2 é o índice de oi ['oi']\n"
     ]
    }
   ],
   "source": [
    "uma_lista=[76, 92.3,'oi','true', 4, 76]\n",
    "lista=['pitomba', 76]\n",
    "nome=['cibele','true',4,76]\n",
    "listaN=[99]\n",
    "s=[4,76]\n",
    "\n",
    "#questão A\n",
    "print(uma_lista[:] + lista)\n",
    "#questão B\n",
    "print(uma_lista[0:3]+ nome )\n",
    "#questão C\n",
    "print(listaN + uma_lista[:])\n",
    "#questão D\n",
    "print(uma_lista[2:3])\n",
    "#questão F para não exibir true na lista\n",
    "print(uma_lista[0:3] + s)\n",
    "\n",
    "\n",
    "# questão E para pedir o índice de oi\n",
    "indice_0=(uma_lista[0:1])==0==76\n",
    "indice_1=(uma_lista[1:2])==1==92.3\n",
    "indice_2= (uma_lista[2:3])==2=='oi'\n",
    "indice_3= (uma_lista[3:4])==3=='true'\n",
    "indice_4= (uma_lista[4:5])==4==4\n",
    "indice_5= (uma_lista[5:])==5==76\n",
    "\n",
    "pergunta= int(input ('Qual o índice de Oi, em uma lista de elementos com índices de 0 a 5 que não se repetem?'))\n",
    "\n",
    "\n",
    "if( pergunta == indice_0): \n",
    "    \n",
    "    print('Você errou, tente novamente :( ')\n",
    "\n",
    "elif ( pergunta == indice_1): \n",
    "    print('Você errou, tente novamente :( ')\n",
    "\n",
    "\n",
    "elif ( pergunta == indice_3): \n",
    "    print('Você errou, tente novamente :( ')\n",
    "\n",
    "elif ( pergunta == indice_4): \n",
    "    print('Você errou, tente novamente :( ')\n",
    "\n",
    "elif ( pergunta == indice_5): \n",
    "    print('Você errou, tente novamente :( ')\n",
    "\n",
    "else:\n",
    "     \n",
    "    print('Você acertou, 2 é o índice de oi', (uma_lista[2:3]) )\n"
   ]
  },
  {
   "cell_type": "code",
   "execution_count": 2,
   "metadata": {},
   "outputs": [
    {
     "name": "stdout",
     "output_type": "stream",
     "text": [
      "1\n",
      "1\n"
     ]
    }
   ],
   "source": [
    "tupla_nomes=('Marlene', 'Zezinho','Marlene','Cibele','Suely')\n",
    "tupla_nomes.count('Marlene')\n",
    "print (tupla_nomes.count('Suely'))\n",
    "print (tupla_nomes.count('Zezinho'))"
   ]
  },
  {
   "cell_type": "code",
   "execution_count": 3,
   "metadata": {},
   "outputs": [
    {
     "name": "stdout",
     "output_type": "stream",
     "text": [
      "3\n"
     ]
    }
   ],
   "source": [
    "tupla_nomes=('1','2','2','3','4','4','4')\n",
    "tupla_nomes.count('4')\n",
    "print (tupla_nomes.count('4'))\n"
   ]
  },
  {
   "cell_type": "code",
   "execution_count": null,
   "metadata": {},
   "outputs": [],
   "source": [
    "dicio={'chave':'valor'}\n",
    "print(type(dicio))"
   ]
  },
  {
   "cell_type": "code",
   "execution_count": 4,
   "metadata": {},
   "outputs": [
    {
     "data": {
      "text/plain": [
       "35"
      ]
     },
     "execution_count": 4,
     "metadata": {},
     "output_type": "execute_result"
    }
   ],
   "source": [
    "d={'laranjas':15, 'bananas': 35, 'siringuela':12}\n",
    "d['bananas']"
   ]
  },
  {
   "cell_type": "code",
   "execution_count": 6,
   "metadata": {},
   "outputs": [
    {
     "name": "stdout",
     "output_type": "stream",
     "text": [
      "{'laranjas': 15, 'bananas': 35, 'siringuela': 12, 'pitomba': 20}\n"
     ]
    }
   ],
   "source": [
    "d['pitomba']=20\n",
    "len(d)\n",
    "print(d)"
   ]
  },
  {
   "cell_type": "code",
   "execution_count": 7,
   "metadata": {},
   "outputs": [
    {
     "data": {
      "text/plain": [
       "True"
      ]
     },
     "execution_count": 7,
     "metadata": {},
     "output_type": "execute_result"
    }
   ],
   "source": [
    "'pitomba' in d"
   ]
  },
  {
   "cell_type": "code",
   "execution_count": 8,
   "metadata": {},
   "outputs": [
    {
     "data": {
      "text/plain": [
       "False"
      ]
     },
     "execution_count": 8,
     "metadata": {},
     "output_type": "execute_result"
    }
   ],
   "source": [
    "'pears' in d"
   ]
  },
  {
   "cell_type": "code",
   "execution_count": 9,
   "metadata": {},
   "outputs": [
    {
     "data": {
      "text/plain": [
       "False"
      ]
     },
     "execution_count": 9,
     "metadata": {},
     "output_type": "execute_result"
    }
   ],
   "source": [
    "del d['laranjas']\n",
    "'laranjas' in d"
   ]
  },
  {
   "cell_type": "code",
   "execution_count": 11,
   "metadata": {},
   "outputs": [
    {
     "name": "stdout",
     "output_type": "stream",
     "text": [
      "[1, 2, 3, 4]\n",
      "['pinha', 'oiti coró', 'jaca', 'tamarindo', 6, 7, 8, 9]\n",
      "[0, 0, 0, 0]\n",
      "[1, 2, ['Oi', 'Tchau'], 1, 2, ['Oi', 'Tchau']]\n"
     ]
    }
   ],
   "source": [
    "frutas= [\"pinha\", \"oiti coró\", \"jaca\", \"tamarindo\"]\n",
    "print([1,2] + [3,4])\n",
    "print(frutas+[6,7,8,9])\n",
    "\n",
    "print([0]*4)\n",
    "print([1,2,[\"Oi\",\"Tchau\"]]*2)"
   ]
  },
  {
   "cell_type": "code",
   "execution_count": 14,
   "metadata": {},
   "outputs": [
    {
     "name": "stdout",
     "output_type": "stream",
     "text": [
      "[5, 27, 3, 12]\n"
     ]
    }
   ],
   "source": [
    "minha_lista=[]\n",
    "minha_lista.append(5)\n",
    "minha_lista.append(27)\n",
    "minha_lista.append(3)\n",
    "minha_lista.append(12)\n",
    "print(minha_lista)"
   ]
  },
  {
   "cell_type": "code",
   "execution_count": 17,
   "metadata": {},
   "outputs": [
    {
     "name": "stdout",
     "output_type": "stream",
     "text": [
      "[5, 12, 27, 3, 12]\n",
      "2\n",
      "3\n",
      "1\n"
     ]
    }
   ],
   "source": [
    "minha_lista.insert(1,12)\n",
    "print(minha_lista)\n",
    "print(minha_lista.count(12))\n",
    "\n",
    "print(minha_lista.index(3))\n",
    "print(minha_lista.count(5))"
   ]
  },
  {
   "cell_type": "code",
   "execution_count": 18,
   "metadata": {},
   "outputs": [
    {
     "name": "stdout",
     "output_type": "stream",
     "text": [
      "[12, 3, 27, 12, 5]\n",
      "[3, 5, 12, 12, 27]\n",
      "[3, 12, 12, 27]\n"
     ]
    }
   ],
   "source": [
    "minha_lista.reverse()\n",
    "print(minha_lista)\n",
    "minha_lista.sort()\n",
    "print(minha_lista)\n",
    "minha_lista.remove(5)\n",
    "print(minha_lista)"
   ]
  },
  {
   "cell_type": "code",
   "execution_count": 19,
   "metadata": {},
   "outputs": [
    {
     "name": "stdout",
     "output_type": "stream",
     "text": [
      "27\n",
      "[3, 12, 12]\n"
     ]
    }
   ],
   "source": [
    "ultimo_item=minha_lista.pop()\n",
    "print(ultimo_item)\n",
    "print(minha_lista)\n"
   ]
  }
 ],
 "metadata": {
  "kernelspec": {
   "display_name": "Python 3",
   "language": "python",
   "name": "python3"
  },
  "language_info": {
   "codemirror_mode": {
    "name": "ipython",
    "version": 3
   },
   "file_extension": ".py",
   "mimetype": "text/x-python",
   "name": "python",
   "nbconvert_exporter": "python",
   "pygments_lexer": "ipython3",
   "version": "3.12.-1"
  }
 },
 "nbformat": 4,
 "nbformat_minor": 2
}
